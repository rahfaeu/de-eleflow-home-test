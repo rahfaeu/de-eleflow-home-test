{
 "cells": [
  {
   "cell_type": "code",
   "execution_count": 36,
   "id": "pacific-retirement",
   "metadata": {},
   "outputs": [],
   "source": [
    "from pyspark.sql import SparkSession\n",
    "import pyspark.sql.functions as f\n",
    "\n",
    "spark = SparkSession.builder.appName(\"Process File\").getOrCreate()\n",
    "spark.conf.set(\"spark.sql.repl.eagerEval.enabled\", True)"
   ]
  },
  {
   "cell_type": "code",
   "execution_count": 37,
   "id": "unable-paraguay",
   "metadata": {},
   "outputs": [],
   "source": [
    "df_weekly = spark.read \\\n",
    "    .format(\"com.databricks.spark.csv\") \\\n",
    "    .option(\"header\", \"true\") \\\n",
    "    .option(\"delimiter\", \",\") \\\n",
    "    .option(\"inferSchema\", \"true\") \\\n",
    "    .load(\"SEMANAL_MUNICIPIOS-2019.csv\")"
   ]
  },
  {
   "cell_type": "code",
   "execution_count": 38,
   "id": "gross-debut",
   "metadata": {},
   "outputs": [
    {
     "name": "stdout",
     "output_type": "stream",
     "text": [
      "+------------+----------+\n",
      "|DATA INICIAL|DATA FINAL|\n",
      "+------------+----------+\n",
      "|30/12/2018  |5/1/2019  |\n",
      "|30/12/2018  |5/1/2019  |\n",
      "+------------+----------+\n",
      "only showing top 2 rows\n",
      "\n"
     ]
    }
   ],
   "source": [
    "df_weekly.select([\"DATA INICIAL\", \"DATA FINAL\"]).show(2, False)"
   ]
  },
  {
   "cell_type": "code",
   "execution_count": 39,
   "id": "equipped-parade",
   "metadata": {},
   "outputs": [
    {
     "name": "stdout",
     "output_type": "stream",
     "text": [
      "+------------+----------+------------+---------+---------------------+----------------+----------------------------+-----------------+-------------------+---------------------+--------------------+--------------------+--------------------+------------------------+------------------------+--------------------------+-------------------------+-------------------------+-----------------------------+\n",
      "|DATA INICIAL|DATA FINAL|REGIÃO      |ESTADO   |MUNICÍPIO            |PRODUTO         |NÚMERO DE POSTOS PESQUISADOS|UNIDADE DE MEDIDA|PREÇO MÉDIO REVENDA|DESVIO PADRÃO REVENDA|PREÇO MÍNIMO REVENDA|PREÇO MÁXIMO REVENDA|MARGEM MÉDIA REVENDA|COEF DE VARIAÇÃO REVENDA|PREÇO MÉDIO DISTRIBUIÇÃO|DESVIO PADRÃO DISTRIBUIÇÃO|PREÇO MÍNIMO DISTRIBUIÇÃO|PREÇO MÁXIMO DISTRIBUIÇÃO|COEF DE VARIAÇÃO DISTRIBUIÇÃO|\n",
      "+------------+----------+------------+---------+---------------------+----------------+----------------------------+-----------------+-------------------+---------------------+--------------------+--------------------+--------------------+------------------------+------------------------+--------------------------+-------------------------+-------------------------+-----------------------------+\n",
      "|30/12/2018  |5/1/2019  |NORTE       |PARA     |ABAETETUBA           |ETANOL HIDRATADO|1                           |R$/l             |4,650              |0,000                |4,650               |4,650               |-                   |0,000                   |-                       |-                         |-                        |-                        |-                            |\n",
      "|30/12/2018  |5/1/2019  |NORDESTE    |MARANHAO |ACAILANDIA           |ETANOL HIDRATADO|2                           |R$/l             |3,524              |0,389                |3,249               |3,799               |-                   |0,110                   |-                       |-                         |-                        |-                        |-                            |\n",
      "|30/12/2018  |5/1/2019  |SUDESTE     |SAO PAULO|ADAMANTINA           |ETANOL HIDRATADO|8                           |R$/l             |2,599              |0,105                |2,450               |2,690               |0,243               |0,040                   |2,356                   |0,078                     |2,269                    |2,420                    |0,033                        |\n",
      "|30/12/2018  |5/1/2019  |CENTRO OESTE|GOIAS    |AGUAS LINDAS DE GOIAS|ETANOL HIDRATADO|5                           |R$/l             |3,031              |0,110                |2,939               |3,199               |0,359               |0,036                   |2,672                   |0,024                     |2,655                    |2,689                    |0,009                        |\n",
      "|30/12/2018  |5/1/2019  |NORDESTE    |BAHIA    |ALAGOINHAS           |ETANOL HIDRATADO|9                           |R$/l             |3,220              |0,170                |2,920               |3,320               |0,404               |0,053                   |2,816                   |0,090                     |2,725                    |2,904                    |0,032                        |\n",
      "+------------+----------+------------+---------+---------------------+----------------+----------------------------+-----------------+-------------------+---------------------+--------------------+--------------------+--------------------+------------------------+------------------------+--------------------------+-------------------------+-------------------------+-----------------------------+\n",
      "only showing top 5 rows\n",
      "\n"
     ]
    }
   ],
   "source": [
    "df_weekly.show(5, False)"
   ]
  }
 ],
 "metadata": {
  "kernelspec": {
   "display_name": "Python 3",
   "language": "python",
   "name": "python3"
  },
  "language_info": {
   "codemirror_mode": {
    "name": "ipython",
    "version": 3
   },
   "file_extension": ".py",
   "mimetype": "text/x-python",
   "name": "python",
   "nbconvert_exporter": "python",
   "pygments_lexer": "ipython3",
   "version": "3.7.3"
  }
 },
 "nbformat": 4,
 "nbformat_minor": 5
}
